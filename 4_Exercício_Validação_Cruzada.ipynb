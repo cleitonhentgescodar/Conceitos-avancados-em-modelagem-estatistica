{
  "nbformat": 4,
  "nbformat_minor": 0,
  "metadata": {
    "colab": {
      "provenance": []
    },
    "kernelspec": {
      "name": "python3",
      "display_name": "Python 3"
    },
    "language_info": {
      "name": "python"
    }
  },
  "cells": [
    {
      "cell_type": "markdown",
      "source": [
        "# **MÓDULO 35 - Cross Validation**"
      ],
      "metadata": {
        "id": "Ua64yDtEVkAe"
      }
    },
    {
      "cell_type": "markdown",
      "source": [
        "Nesta tarefa, você trabalhará com uma base de dados que contém informações sobre variáveis ambientais coletadas para a detecção de incêndios. O objetivo é utilizar técnicas de validação cruzada (cross-validation) para avaliar a performance de um modelo de classificação na previsão da ocorrência de um incêndio com base nas variáveis fornecidas.\n",
        "\n",
        "\n",
        "Descrição da Base de Dados\n",
        "A base de dados contém as seguintes variáveis:\n",
        "\n",
        "Unnamed:0: Índice (não é uma variável útil para o modelo)\n",
        "\n",
        "UTC: Tempo em Segundos UTC\n",
        "\n",
        "Temperature[C]: Temperatura do Ar (em graus Celsius)\n",
        "\n",
        "Humidity[%]: Umidade do Ar (em porcentagem)\n",
        "\n",
        "TVOC[ppb]: Total de Compostos Orgânicos Voláteis (medido em partes por bilhão)\n",
        "\n",
        "eCO2[ppm]: Concentração equivalente de CO2 (medido em partes por milhão)\n",
        "\n",
        "Raw H2: Hidrogênio molecular bruto, não compensado\n",
        "\n",
        "Raw Ethanol: Etanol gasoso bruto\n",
        "\n",
        "Pressure[hPA]: Pressão do Ar (em hectopascais)\n",
        "\n",
        "PM1.0: Material particulado de tamanho < 1,0 µm\n",
        "\n",
        "PM2.5: Material particulado de tamanho >1,0 µm e < 2,5 µm\n",
        "\n",
        "NC0.5: Concentração numérica de material particulado de tamanho < 0,5 µm\n",
        "\n",
        "NC1.0: Concentração numérica de material particulado de tamanho 0,5 µm < 1,0 µm\n",
        "\n",
        "NC2.5: Concentração numérica de material particulado de tamanho 1,0 µm < 2,5 µm\n",
        "\n",
        "CNT: Contador de amostras\n",
        "\n",
        "\n",
        "E a variável alvo:\n",
        "\n",
        "Fire Alarm: Indicador binário de incêndio (1 se houver incêndio, 0 caso contrário)"
      ],
      "metadata": {
        "id": "UfSU7_b9V9zs"
      }
    },
    {
      "cell_type": "markdown",
      "source": [
        "O objetivo desta tarefa é aplicar a técnica de validação cruzada (cross-validation) para avaliar a performance de um modelo de classificação. A validação cruzada ajudará a garantir que o modelo seja avaliado de maneira robusta e generalize bem para dados não vistos."
      ],
      "metadata": {
        "id": "beLG8E0gWJ3B"
      }
    },
    {
      "cell_type": "code",
      "source": [
        "import pandas as pd\n",
        "from sklearn.model_selection import cross_val_score\n",
        "from sklearn.linear_model import LogisticRegression\n",
        "from sklearn.model_selection import train_test_split\n",
        "from sklearn.metrics import classification_report\n",
        "from sklearn.model_selection import KFold\n",
        "from sklearn.metrics import accuracy_score"
      ],
      "metadata": {
        "id": "F2Re2qbeWg_S"
      },
      "execution_count": 6,
      "outputs": []
    },
    {
      "cell_type": "markdown",
      "source": [
        "# 1 - Carregue a base de dados, verifique os tipos de dados e também se há presença de dados faltantes ou nulos."
      ],
      "metadata": {
        "id": "PavdJLwnWV0w"
      }
    },
    {
      "cell_type": "code",
      "source": [
        "data = pd.read_csv('/content/Cientista de dados M35 - smoke_detection_iot.csv')\n",
        "\n",
        "print('_____________________________________________________________________________________________________\\n')\n",
        "\n",
        "print('Valores nulos presentes no dataframe\\n')\n",
        "print(data.isnull().sum())\n",
        "\n",
        "print('_____________________________________________________________________________________________________\\n')\n",
        "\n",
        "print('Tipos de dados presentes no dataframe\\n')\n",
        "print(data.info())\n",
        "\n",
        "print('_____________________________________________________________________________________________________\\n')\n",
        "\n",
        "print('Primeiras linhas do dataframe\\n')\n",
        "print(data.head())\n",
        "\n",
        "print('_____________________________________________________________________________________________________\\n')\n",
        "\n",
        "print('Últimas linhas do dataframe\\n')\n",
        "print(data.tail())\n",
        "\n",
        "print('_____________________________________________________________________________________________________\\n')\n",
        "\n",
        "print('Distribuição da variável alvo (Fire Alarm)\\n')\n",
        "print(data['Fire Alarm'].value_counts())"
      ],
      "metadata": {
        "colab": {
          "base_uri": "https://localhost:8080/"
        },
        "id": "i9P0eKS3PU9k",
        "outputId": "9929d4fe-90a0-419d-9088-e9acf2da01fa"
      },
      "execution_count": 7,
      "outputs": [
        {
          "output_type": "stream",
          "name": "stdout",
          "text": [
            "_____________________________________________________________________________________________________\n",
            "\n",
            "Valores nulos presentes no dataframe\n",
            "\n",
            "Unnamed: 0        0\n",
            "UTC               0\n",
            "Temperature[C]    0\n",
            "Humidity[%]       0\n",
            "TVOC[ppb]         0\n",
            "eCO2[ppm]         0\n",
            "Raw H2            0\n",
            "Raw Ethanol       0\n",
            "Pressure[hPa]     0\n",
            "PM1.0             0\n",
            "PM2.5             0\n",
            "NC0.5             0\n",
            "NC1.0             0\n",
            "NC2.5             0\n",
            "CNT               0\n",
            "Fire Alarm        0\n",
            "dtype: int64\n",
            "_____________________________________________________________________________________________________\n",
            "\n",
            "Tipos de dados presentes no dataframe\n",
            "\n",
            "<class 'pandas.core.frame.DataFrame'>\n",
            "RangeIndex: 62630 entries, 0 to 62629\n",
            "Data columns (total 16 columns):\n",
            " #   Column          Non-Null Count  Dtype  \n",
            "---  ------          --------------  -----  \n",
            " 0   Unnamed: 0      62630 non-null  int64  \n",
            " 1   UTC             62630 non-null  int64  \n",
            " 2   Temperature[C]  62630 non-null  float64\n",
            " 3   Humidity[%]     62630 non-null  float64\n",
            " 4   TVOC[ppb]       62630 non-null  int64  \n",
            " 5   eCO2[ppm]       62630 non-null  int64  \n",
            " 6   Raw H2          62630 non-null  int64  \n",
            " 7   Raw Ethanol     62630 non-null  int64  \n",
            " 8   Pressure[hPa]   62630 non-null  float64\n",
            " 9   PM1.0           62630 non-null  float64\n",
            " 10  PM2.5           62630 non-null  float64\n",
            " 11  NC0.5           62630 non-null  float64\n",
            " 12  NC1.0           62630 non-null  float64\n",
            " 13  NC2.5           62630 non-null  float64\n",
            " 14  CNT             62630 non-null  int64  \n",
            " 15  Fire Alarm      62630 non-null  int64  \n",
            "dtypes: float64(8), int64(8)\n",
            "memory usage: 7.6 MB\n",
            "None\n",
            "_____________________________________________________________________________________________________\n",
            "\n",
            "Primeiras linhas do dataframe\n",
            "\n",
            "   Unnamed: 0         UTC  Temperature[C]  Humidity[%]  TVOC[ppb]  eCO2[ppm]  \\\n",
            "0           0  1654733331          20.000        57.36          0        400   \n",
            "1           1  1654733332          20.015        56.67          0        400   \n",
            "2           2  1654733333          20.029        55.96          0        400   \n",
            "3           3  1654733334          20.044        55.28          0        400   \n",
            "4           4  1654733335          20.059        54.69          0        400   \n",
            "\n",
            "   Raw H2  Raw Ethanol  Pressure[hPa]  PM1.0  PM2.5  NC0.5  NC1.0  NC2.5  CNT  \\\n",
            "0   12306        18520        939.735    0.0    0.0    0.0    0.0    0.0    0   \n",
            "1   12345        18651        939.744    0.0    0.0    0.0    0.0    0.0    1   \n",
            "2   12374        18764        939.738    0.0    0.0    0.0    0.0    0.0    2   \n",
            "3   12390        18849        939.736    0.0    0.0    0.0    0.0    0.0    3   \n",
            "4   12403        18921        939.744    0.0    0.0    0.0    0.0    0.0    4   \n",
            "\n",
            "   Fire Alarm  \n",
            "0           0  \n",
            "1           0  \n",
            "2           0  \n",
            "3           0  \n",
            "4           0  \n",
            "_____________________________________________________________________________________________________\n",
            "\n",
            "Últimas linhas do dataframe\n",
            "\n",
            "       Unnamed: 0         UTC  Temperature[C]  Humidity[%]  TVOC[ppb]  \\\n",
            "62625       62625  1655130047          18.438        15.79        625   \n",
            "62626       62626  1655130048          18.653        15.87        612   \n",
            "62627       62627  1655130049          18.867        15.84        627   \n",
            "62628       62628  1655130050          19.083        16.04        638   \n",
            "62629       62629  1655130051          19.299        16.52        643   \n",
            "\n",
            "       eCO2[ppm]  Raw H2  Raw Ethanol  Pressure[hPa]  PM1.0  PM2.5  NC0.5  \\\n",
            "62625        400   13723        20569        936.670   0.63   0.65   4.32   \n",
            "62626        400   13731        20588        936.678   0.61   0.63   4.18   \n",
            "62627        400   13725        20582        936.687   0.57   0.60   3.95   \n",
            "62628        400   13712        20566        936.680   0.57   0.59   3.92   \n",
            "62629        400   13696        20543        936.676   0.57   0.59   3.90   \n",
            "\n",
            "       NC1.0  NC2.5   CNT  Fire Alarm  \n",
            "62625  0.673  0.015  5739           0  \n",
            "62626  0.652  0.015  5740           0  \n",
            "62627  0.617  0.014  5741           0  \n",
            "62628  0.611  0.014  5742           0  \n",
            "62629  0.607  0.014  5743           0  \n",
            "_____________________________________________________________________________________________________\n",
            "\n",
            "Distribuição da variável alvo (Fire Alarm)\n",
            "\n",
            "Fire Alarm\n",
            "1    44757\n",
            "0    17873\n",
            "Name: count, dtype: int64\n"
          ]
        }
      ]
    },
    {
      "cell_type": "markdown",
      "source": [
        "Para a coluna Fire Alarm, por conta do espaçamento talvez seja util renomear o nome da coluna utilizando:\n",
        "\n",
        "df.rename(columns={'Fire Alarm': 'Fire_Alarm'}, inplace=True)"
      ],
      "metadata": {
        "id": "sFCle1hkXXZJ"
      }
    },
    {
      "cell_type": "markdown",
      "source": [
        "# 2 - Para essa base, onde você realizará as previsões de fire alarm, qual modelo de machine learning você aplicará? Justifique.\n",
        "\n",
        "\n"
      ],
      "metadata": {
        "id": "hOD9k9LAW8Kk"
      }
    },
    {
      "cell_type": "markdown",
      "source": [
        "Regressão Logística\n",
        "\n",
        "Justificativa: A variável alvo 'Fire Alarm' é binária (0 ou 1), indicando um problema de classificação binária.\n",
        "\n",
        "A Regressão Logística é um modelo adequado e comum para este tipo de problema, pois prevê a probabilidade de uma ocorrência binária com base nas variáveis preditoras. Além disso, é um modelo interpretável e computacionalmente eficiente.\n"
      ],
      "metadata": {
        "id": "tRlcyXd5RRur"
      }
    },
    {
      "cell_type": "markdown",
      "source": [
        "# 3 - Separe a base em Y e X e já rode a instância do modelo que você utilizará."
      ],
      "metadata": {
        "id": "ME4lOgO5Wx1a"
      }
    },
    {
      "cell_type": "code",
      "source": [
        "from sklearn.preprocessing import StandardScaler\n",
        "\n",
        "data.rename(columns={'Fire Alarm': 'Fire_Alarm'}, inplace=True)\n",
        "\n",
        "# Separar as variáveis preditoras (X) e a variável alvo (Y)\n",
        "X = data.drop(['Unnamed: 0', 'UTC', 'CNT', 'Fire_Alarm'], axis=1)\n",
        "Y = data['Fire_Alarm']\n",
        "\n",
        "# Padronizar os dados\n",
        "scaler = StandardScaler()\n",
        "X_scaled = scaler.fit_transform(X)\n",
        "\n",
        "# Instância do modelo\n",
        "model = LogisticRegression(max_iter=1000)"
      ],
      "metadata": {
        "id": "5j2XIstNSKVU"
      },
      "execution_count": 8,
      "outputs": []
    },
    {
      "cell_type": "markdown",
      "source": [
        "# 4 - Defina o número de Folds e rode o modelo com a validação cruzada."
      ],
      "metadata": {
        "id": "hTSxwAL-XxC_"
      }
    },
    {
      "cell_type": "code",
      "source": [
        "# Defininido o número de folds\n",
        "n_splits = 5\n",
        "\n",
        "# Instanciar o KFold\n",
        "kfold = KFold(n_splits=n_splits, shuffle=True, random_state=42)\n",
        "\n",
        "# Definir métricas de avaliação\n",
        "scoring = ['accuracy', 'roc_auc', 'recall', 'f1']\n",
        "\n",
        "# Executar a validação cruzada com múltiplas métricas\n",
        "scores = cross_val_score(model, X_scaled, Y, cv=kfold, scoring='accuracy') # Keep accuracy for comparison\n",
        "roc_auc_scores = cross_val_score(model, X_scaled, Y, cv=kfold, scoring='roc_auc')\n",
        "recall_scores = cross_val_score(model, X_scaled, Y, cv=kfold, scoring='recall')\n",
        "f1_scores = cross_val_score(model, X_scaled, Y, cv=kfold, scoring='f1')\n",
        "\n",
        "# Imprimir os resultados da validação cruzada para acurácia\n",
        "print(f'Scores de Acurácia para cada fold: {scores}')\n",
        "print(f'Acurácia média: {scores.mean():.4f}')\n",
        "print(f'Desvio padrão dos scores de Acurácia: {scores.std():.4f}')\n",
        "\n",
        "print('_____________________________________________________________________________________________________\\n')\n",
        "\n",
        "# Imprimir os resultados da validação cruzada para ROC AUC\n",
        "print(f'Scores de ROC AUC para cada fold: {roc_auc_scores}')\n",
        "print(f'ROC AUC média: {roc_auc_scores.mean():.4f}')\n",
        "print(f'Desvio padrão dos scores de ROC AUC: {roc_auc_scores.std():.4f}')\n",
        "\n",
        "print('_____________________________________________________________________________________________________\\n')\n",
        "\n",
        "# Imprimir os resultados da validação cruzada para Recall\n",
        "print(f'Scores de Recall para cada fold: {recall_scores}')\n",
        "print(f'Recall médio: {recall_scores.mean():.4f}')\n",
        "print(f'Desvio padrão dos scores de Recall: {recall_scores.std():.4f}')\n",
        "\n",
        "print('_____________________________________________________________________________________________________\\n')\n",
        "\n",
        "# Imprimir os resultados da validação cruzada para F1-Score\n",
        "print(f'Scores de F1-Score para cada fold: {f1_scores}')\n",
        "print(f'F1-Score médio: {f1_scores.mean():.4f}')\n",
        "print(f'Desvio padrão dos scores de F1-Score: {f1_scores.std():.4f}')"
      ],
      "metadata": {
        "id": "OyPPGETSX4Ug",
        "colab": {
          "base_uri": "https://localhost:8080/"
        },
        "outputId": "78f813b6-d15e-4e02-e536-64e6493f0fe5"
      },
      "execution_count": 9,
      "outputs": [
        {
          "output_type": "stream",
          "name": "stdout",
          "text": [
            "Scores de Acurácia para cada fold: [0.89541753 0.89517803 0.89262334 0.89765288 0.89988823]\n",
            "Acurácia média: 0.8962\n",
            "Desvio padrão dos scores de Acurácia: 0.0025\n",
            "_____________________________________________________________________________________________________\n",
            "\n",
            "Scores de ROC AUC para cada fold: [0.96465336 0.96538168 0.96600176 0.96485976 0.96596493]\n",
            "ROC AUC média: 0.9654\n",
            "Desvio padrão dos scores de ROC AUC: 0.0006\n",
            "_____________________________________________________________________________________________________\n",
            "\n",
            "Scores de Recall para cada fold: [0.94995522 0.95181533 0.94628928 0.95448446 0.95670562]\n",
            "Recall médio: 0.9518\n",
            "Desvio padrão dos scores de Recall: 0.0036\n",
            "_____________________________________________________________________________________________________\n",
            "\n",
            "Scores de F1-Score para cada fold: [0.92833698 0.92825529 0.92661902 0.93014385 0.93201778]\n",
            "F1-Score médio: 0.9291\n",
            "Desvio padrão dos scores de F1-Score: 0.0018\n"
          ]
        }
      ]
    },
    {
      "cell_type": "markdown",
      "source": [
        "# 5 - Avalie a pontuação de cada modelo e ao final a validação final da média."
      ],
      "metadata": {
        "id": "H_xggQ5DX9mL"
      }
    },
    {
      "cell_type": "code",
      "source": [
        "# Como visto acima\n",
        "\n",
        "print(\"\\nAvaliação da pontuação de cada modelo e a validação final da média:\")\n",
        "for i in range(n_splits):\n",
        "  print(f\"Fold {i+1}:\")\n",
        "  print(f\"  Acurácia: {scores[i]:.4f}\")\n",
        "  print(f\"  ROC AUC: {roc_auc_scores[i]:.4f}\")\n",
        "  print(f\"  Recall: {recall_scores[i]:.4f}\")\n",
        "  print(f\"  F1-Score: {f1_scores[i]:.4f}\")\n",
        "\n",
        "print(f\"\\nAcurácia média da validação cruzada: {scores.mean():.4f}\")\n",
        "print(f\"Desvio padrão dos scores da validação cruzada: {scores.std():.4f}\")\n",
        "\n",
        "print(f\"\\nROC AUC média da validação cruzada: {roc_auc_scores.mean():.4f}\")\n",
        "print(f\"Desvio padrão dos scores de ROC AUC da validação cruzada: {roc_auc_scores.std():.4f}\")\n",
        "\n",
        "print(f\"\\nRecall médio da validação cruzada: {recall_scores.mean():.4f}\")\n",
        "print(f\"Desvio padrão dos scores de Recall da validação cruzada: {recall_scores.std():.4f}\")\n",
        "\n",
        "print(f\"\\nF1-Score médio da validação cruzada: {f1_scores.mean():.4f}\")\n",
        "print(f\"Desvio padrão dos scores de F1-Score da validação cruzada: {f1_scores.std():.4f}\")"
      ],
      "metadata": {
        "id": "Zdw7Rs0IYDt5",
        "colab": {
          "base_uri": "https://localhost:8080/"
        },
        "outputId": "d74c05e5-2280-4339-ca29-cc672f439222"
      },
      "execution_count": 10,
      "outputs": [
        {
          "output_type": "stream",
          "name": "stdout",
          "text": [
            "\n",
            "Avaliação da pontuação de cada modelo e a validação final da média:\n",
            "Fold 1:\n",
            "  Acurácia: 0.8954\n",
            "  ROC AUC: 0.9647\n",
            "  Recall: 0.9500\n",
            "  F1-Score: 0.9283\n",
            "Fold 2:\n",
            "  Acurácia: 0.8952\n",
            "  ROC AUC: 0.9654\n",
            "  Recall: 0.9518\n",
            "  F1-Score: 0.9283\n",
            "Fold 3:\n",
            "  Acurácia: 0.8926\n",
            "  ROC AUC: 0.9660\n",
            "  Recall: 0.9463\n",
            "  F1-Score: 0.9266\n",
            "Fold 4:\n",
            "  Acurácia: 0.8977\n",
            "  ROC AUC: 0.9649\n",
            "  Recall: 0.9545\n",
            "  F1-Score: 0.9301\n",
            "Fold 5:\n",
            "  Acurácia: 0.8999\n",
            "  ROC AUC: 0.9660\n",
            "  Recall: 0.9567\n",
            "  F1-Score: 0.9320\n",
            "\n",
            "Acurácia média da validação cruzada: 0.8962\n",
            "Desvio padrão dos scores da validação cruzada: 0.0025\n",
            "\n",
            "ROC AUC média da validação cruzada: 0.9654\n",
            "Desvio padrão dos scores de ROC AUC da validação cruzada: 0.0006\n",
            "\n",
            "Recall médio da validação cruzada: 0.9518\n",
            "Desvio padrão dos scores de Recall da validação cruzada: 0.0036\n",
            "\n",
            "F1-Score médio da validação cruzada: 0.9291\n",
            "Desvio padrão dos scores de F1-Score da validação cruzada: 0.0018\n"
          ]
        }
      ]
    }
  ]
}